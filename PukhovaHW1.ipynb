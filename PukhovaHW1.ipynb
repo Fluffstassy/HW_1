{
  "nbformat": 4,
  "nbformat_minor": 0,
  "metadata": {
    "colab": {
      "provenance": [],
      "collapsed_sections": [],
      "include_colab_link": true
    },
    "kernelspec": {
      "name": "python3",
      "display_name": "Python 3"
    },
    "language_info": {
      "name": "python"
    }
  },
  "cells": [
    {
      "cell_type": "markdown",
      "metadata": {
        "id": "view-in-github",
        "colab_type": "text"
      },
      "source": [
        "<a href=\"https://colab.research.google.com/github/Fluffstassy/HW_1/blob/main/PukhovaHW1.ipynb\" target=\"_parent\"><img src=\"https://colab.research.google.com/assets/colab-badge.svg\" alt=\"Open In Colab\"/></a>"
      ]
    },
    {
      "cell_type": "markdown",
      "source": [
        "# Задание 1\n",
        "\n",
        "Даны 2 переменных, в которых хранятся строки произвольной длины: phrase_1 и phrase_2.\n",
        "Напишите код, который проверяет какая из этих строк длиннее."
      ],
      "metadata": {
        "id": "8Px0MTH2jAF4"
      }
    },
    {
      "cell_type": "code",
      "source": [
        "phrase_1=\"В Питере стоит солнечная погода\"\n",
        "phrase_2=\"Зима скоро закончится\"\n",
        "if len(phrase_1) > len(phrase_2):\n",
        "  print(\"Фраза 1 длиннее фразы 2\")\n",
        "elif len(phrase_1) < len(phrase_2):\n",
        "  print(\"Фраза 2 длиннее фразы 1\")\n",
        "else: print(\"Фразы равны\")"
      ],
      "metadata": {
        "id": "8w584gv0jCqm"
      },
      "execution_count": null,
      "outputs": []
    },
    {
      "cell_type": "markdown",
      "source": [
        "# Задание 2\n",
        "Дана переменная, в которой хранится четырехзначное число (год). Необходимо написать программу, которая выведет, является ли данный год високосным или обычным."
      ],
      "metadata": {
        "id": "5GHvAPOokuzR"
      }
    },
    {
      "cell_type": "code",
      "source": [
        "year=int(input(\"Введите год \"))\n",
        "if year % 4 == 0:\n",
        "    print (\"Високосный год\")\n",
        "else: print(\"Обычный год\")"
      ],
      "metadata": {
        "id": "KJrYUduokwqG"
      },
      "execution_count": null,
      "outputs": []
    },
    {
      "cell_type": "markdown",
      "source": [
        "# Задание 3\n",
        "Необходимо написать программу, которая будет запрашивать у пользователя месяц и дату рождения и выводить соответствующий знак зодиака."
      ],
      "metadata": {
        "id": "G9KAzEmJltig"
      }
    },
    {
      "cell_type": "code",
      "source": [
        "Month = input(\"Введите месяц: \")\n",
        "Day = int(input(\"Введите день: \"))\n",
        "if ((Month == \"Март\" and Day >=21) or (Month == \"Апрель\" and Day <=20)):\n",
        "  print(\"Овен\")\n",
        "elif ((Month==\"Апрель\" and Day >=21) or (Month==\"Май\" and Day <=21)):\n",
        "  print(\"Телец\")\n",
        "elif ((Month==\"Май\" and Day >=22) or (Month==\"Июнь\" and Day <=21)):\n",
        "  print(\"Близнецы\")\n",
        "elif ((Month==\"Июнь\" and Day >=22) or (Month==\"Июль\" and Day <=22)):\n",
        "  print(\"Рак\")\n",
        "elif ((Month==\"Июль\" and Day >=23) or (Month==\"Август\" and Day <=21)):\n",
        "  print(\"Лев\")\n",
        "elif ((Month==\"Август\" and Day >=22) or (Month==\"Сентябрь\" and Day <=23)):\n",
        "  print(\"Дева\")\n",
        "elif ((Month==\"Сентябрь\" and Day >=24) or (Month==\"Октябрь\" and Day <=23)):\n",
        "  print(\"Весы\")\n",
        "elif ((Month==\"Октябрь\" and Day >=24) or (Month==\"Ноябрь\" and Day <=22)):\n",
        "  print(\"Скорпион\")\n",
        "elif ((Month==\"Ноябрь\" and Day >=23) or (Month==\"Декабрь\" and Day <=22)):\n",
        "  print(\"Стрелец\")\n",
        "elif ((Month==\"Декабрь\" and Day >=23) or (Month==\"Январь\" and Day <=20)):\n",
        "  print(\"Козерог\")\n",
        "elif ((Month==\"Январь\" and Day >=21) or (Month==\"Февраль\" and Day <=19)):\n",
        "  print(\"Водолей\")\n",
        "elif ((Month==\"Февраль\" and Day >=20) or (Month==\"Март\" and Day <=20)):\n",
        "  print(\"Рыбы\")"
      ],
      "metadata": {
        "id": "K5K_OKfulvNu"
      },
      "execution_count": null,
      "outputs": []
    },
    {
      "cell_type": "markdown",
      "source": [
        "# Задание 4\n",
        "Вам нужно написать программу для подбора упаковок по размерам товара. Размеры (ширина, длина, высота) хранятся в переменных (в сантиметрах):\n",
        "\n",
        "Используйте следующие правила:\n",
        "\n",
        "если каждое из трех измерений менее или равно 15 сантиметрам, то выведите на экран “Коробка №1”;\n",
        "\n",
        "если хотя бы одно из измерений больше 15 сантиметров, но менее 50 сантиметров, то выводите “Коробка №2”;\n",
        "\n",
        "если длина товара больше 2 метров, то выводите “Упаковка для лыж”;\n",
        "во всех остальных случаях выводите “Стандартная коробка №3”."
      ],
      "metadata": {
        "id": "w906dpFuQ6VI"
      }
    },
    {
      "cell_type": "code",
      "source": [
        "width=int(input(\"Введите ширину \"))\n",
        "length=int(input(\"Введите длину \"))\n",
        "height=int(input(\"Введите высоту \"))\n",
        "if width > 0 and length > 0 and height > 0:\n",
        "  if width <= 15 and length <= 15 and height <= 15:\n",
        "    print(\"Коробка №1\")\n",
        "  elif (width > 15 and width < 50) or (length > 15 and length < 50) or (height > 15 and height < 50):\n",
        "    print(\"Коробка №2\")\n",
        "  elif length > 200:\n",
        "    print(\"Коробка для лыж\")\n",
        "  else: print(\"Стандартная коробка №3\")\n",
        "else: print(\"Некорректные размеры\")"
      ],
      "metadata": {
        "id": "o9oCFeG0Q7_H"
      },
      "execution_count": null,
      "outputs": []
    }
  ]
}